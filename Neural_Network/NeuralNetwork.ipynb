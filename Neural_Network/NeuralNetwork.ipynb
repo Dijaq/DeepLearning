{
 "cells": [
  {
   "cell_type": "code",
   "execution_count": 82,
   "metadata": {},
   "outputs": [],
   "source": [
    "import numpy as np\n",
    "import matplotlib.pyplot as plt\n",
    "import pandas as pd\n",
    "from sklearn.preprocessing import LabelEncoder, OneHotEncoder\n",
    "from sklearn.model_selection import train_test_split\n",
    "from sklearn.preprocessing import StandardScaler"
   ]
  },
  {
   "cell_type": "code",
   "execution_count": 83,
   "metadata": {},
   "outputs": [],
   "source": [
    "#Preprocesamiento\n",
    "dataset = pd.read_csv('Churn_Modelling.csv')"
   ]
  },
  {
   "cell_type": "code",
   "execution_count": 84,
   "metadata": {},
   "outputs": [
    {
     "data": {
      "text/html": [
       "<div>\n",
       "<style scoped>\n",
       "    .dataframe tbody tr th:only-of-type {\n",
       "        vertical-align: middle;\n",
       "    }\n",
       "\n",
       "    .dataframe tbody tr th {\n",
       "        vertical-align: top;\n",
       "    }\n",
       "\n",
       "    .dataframe thead th {\n",
       "        text-align: right;\n",
       "    }\n",
       "</style>\n",
       "<table border=\"1\" class=\"dataframe\">\n",
       "  <thead>\n",
       "    <tr style=\"text-align: right;\">\n",
       "      <th></th>\n",
       "      <th>RowNumber</th>\n",
       "      <th>CustomerId</th>\n",
       "      <th>Surname</th>\n",
       "      <th>CreditScore</th>\n",
       "      <th>Geography</th>\n",
       "      <th>Gender</th>\n",
       "      <th>Age</th>\n",
       "      <th>Tenure</th>\n",
       "      <th>Balance</th>\n",
       "      <th>NumOfProducts</th>\n",
       "      <th>HasCrCard</th>\n",
       "      <th>IsActiveMember</th>\n",
       "      <th>EstimatedSalary</th>\n",
       "      <th>Exited</th>\n",
       "    </tr>\n",
       "  </thead>\n",
       "  <tbody>\n",
       "    <tr>\n",
       "      <th>0</th>\n",
       "      <td>1</td>\n",
       "      <td>15634602</td>\n",
       "      <td>Hargrave</td>\n",
       "      <td>619</td>\n",
       "      <td>France</td>\n",
       "      <td>Female</td>\n",
       "      <td>42</td>\n",
       "      <td>2</td>\n",
       "      <td>0.00</td>\n",
       "      <td>1</td>\n",
       "      <td>1</td>\n",
       "      <td>1</td>\n",
       "      <td>101348.88</td>\n",
       "      <td>1</td>\n",
       "    </tr>\n",
       "    <tr>\n",
       "      <th>1</th>\n",
       "      <td>2</td>\n",
       "      <td>15647311</td>\n",
       "      <td>Hill</td>\n",
       "      <td>608</td>\n",
       "      <td>Spain</td>\n",
       "      <td>Female</td>\n",
       "      <td>41</td>\n",
       "      <td>1</td>\n",
       "      <td>83807.86</td>\n",
       "      <td>1</td>\n",
       "      <td>0</td>\n",
       "      <td>1</td>\n",
       "      <td>112542.58</td>\n",
       "      <td>0</td>\n",
       "    </tr>\n",
       "    <tr>\n",
       "      <th>2</th>\n",
       "      <td>3</td>\n",
       "      <td>15619304</td>\n",
       "      <td>Onio</td>\n",
       "      <td>502</td>\n",
       "      <td>France</td>\n",
       "      <td>Female</td>\n",
       "      <td>42</td>\n",
       "      <td>8</td>\n",
       "      <td>159660.80</td>\n",
       "      <td>3</td>\n",
       "      <td>1</td>\n",
       "      <td>0</td>\n",
       "      <td>113931.57</td>\n",
       "      <td>1</td>\n",
       "    </tr>\n",
       "    <tr>\n",
       "      <th>3</th>\n",
       "      <td>4</td>\n",
       "      <td>15701354</td>\n",
       "      <td>Boni</td>\n",
       "      <td>699</td>\n",
       "      <td>France</td>\n",
       "      <td>Female</td>\n",
       "      <td>39</td>\n",
       "      <td>1</td>\n",
       "      <td>0.00</td>\n",
       "      <td>2</td>\n",
       "      <td>0</td>\n",
       "      <td>0</td>\n",
       "      <td>93826.63</td>\n",
       "      <td>0</td>\n",
       "    </tr>\n",
       "    <tr>\n",
       "      <th>4</th>\n",
       "      <td>5</td>\n",
       "      <td>15737888</td>\n",
       "      <td>Mitchell</td>\n",
       "      <td>850</td>\n",
       "      <td>Spain</td>\n",
       "      <td>Female</td>\n",
       "      <td>43</td>\n",
       "      <td>2</td>\n",
       "      <td>125510.82</td>\n",
       "      <td>1</td>\n",
       "      <td>1</td>\n",
       "      <td>1</td>\n",
       "      <td>79084.10</td>\n",
       "      <td>0</td>\n",
       "    </tr>\n",
       "    <tr>\n",
       "      <th>5</th>\n",
       "      <td>6</td>\n",
       "      <td>15574012</td>\n",
       "      <td>Chu</td>\n",
       "      <td>645</td>\n",
       "      <td>Spain</td>\n",
       "      <td>Male</td>\n",
       "      <td>44</td>\n",
       "      <td>8</td>\n",
       "      <td>113755.78</td>\n",
       "      <td>2</td>\n",
       "      <td>1</td>\n",
       "      <td>0</td>\n",
       "      <td>149756.71</td>\n",
       "      <td>1</td>\n",
       "    </tr>\n",
       "    <tr>\n",
       "      <th>6</th>\n",
       "      <td>7</td>\n",
       "      <td>15592531</td>\n",
       "      <td>Bartlett</td>\n",
       "      <td>822</td>\n",
       "      <td>France</td>\n",
       "      <td>Male</td>\n",
       "      <td>50</td>\n",
       "      <td>7</td>\n",
       "      <td>0.00</td>\n",
       "      <td>2</td>\n",
       "      <td>1</td>\n",
       "      <td>1</td>\n",
       "      <td>10062.80</td>\n",
       "      <td>0</td>\n",
       "    </tr>\n",
       "    <tr>\n",
       "      <th>7</th>\n",
       "      <td>8</td>\n",
       "      <td>15656148</td>\n",
       "      <td>Obinna</td>\n",
       "      <td>376</td>\n",
       "      <td>Germany</td>\n",
       "      <td>Female</td>\n",
       "      <td>29</td>\n",
       "      <td>4</td>\n",
       "      <td>115046.74</td>\n",
       "      <td>4</td>\n",
       "      <td>1</td>\n",
       "      <td>0</td>\n",
       "      <td>119346.88</td>\n",
       "      <td>1</td>\n",
       "    </tr>\n",
       "    <tr>\n",
       "      <th>8</th>\n",
       "      <td>9</td>\n",
       "      <td>15792365</td>\n",
       "      <td>He</td>\n",
       "      <td>501</td>\n",
       "      <td>France</td>\n",
       "      <td>Male</td>\n",
       "      <td>44</td>\n",
       "      <td>4</td>\n",
       "      <td>142051.07</td>\n",
       "      <td>2</td>\n",
       "      <td>0</td>\n",
       "      <td>1</td>\n",
       "      <td>74940.50</td>\n",
       "      <td>0</td>\n",
       "    </tr>\n",
       "    <tr>\n",
       "      <th>9</th>\n",
       "      <td>10</td>\n",
       "      <td>15592389</td>\n",
       "      <td>H?</td>\n",
       "      <td>684</td>\n",
       "      <td>France</td>\n",
       "      <td>Male</td>\n",
       "      <td>27</td>\n",
       "      <td>2</td>\n",
       "      <td>134603.88</td>\n",
       "      <td>1</td>\n",
       "      <td>1</td>\n",
       "      <td>1</td>\n",
       "      <td>71725.73</td>\n",
       "      <td>0</td>\n",
       "    </tr>\n",
       "  </tbody>\n",
       "</table>\n",
       "</div>"
      ],
      "text/plain": [
       "   RowNumber  CustomerId   Surname  CreditScore Geography  Gender  Age  \\\n",
       "0          1    15634602  Hargrave          619    France  Female   42   \n",
       "1          2    15647311      Hill          608     Spain  Female   41   \n",
       "2          3    15619304      Onio          502    France  Female   42   \n",
       "3          4    15701354      Boni          699    France  Female   39   \n",
       "4          5    15737888  Mitchell          850     Spain  Female   43   \n",
       "5          6    15574012       Chu          645     Spain    Male   44   \n",
       "6          7    15592531  Bartlett          822    France    Male   50   \n",
       "7          8    15656148    Obinna          376   Germany  Female   29   \n",
       "8          9    15792365        He          501    France    Male   44   \n",
       "9         10    15592389        H?          684    France    Male   27   \n",
       "\n",
       "   Tenure    Balance  NumOfProducts  HasCrCard  IsActiveMember  \\\n",
       "0       2       0.00              1          1               1   \n",
       "1       1   83807.86              1          0               1   \n",
       "2       8  159660.80              3          1               0   \n",
       "3       1       0.00              2          0               0   \n",
       "4       2  125510.82              1          1               1   \n",
       "5       8  113755.78              2          1               0   \n",
       "6       7       0.00              2          1               1   \n",
       "7       4  115046.74              4          1               0   \n",
       "8       4  142051.07              2          0               1   \n",
       "9       2  134603.88              1          1               1   \n",
       "\n",
       "   EstimatedSalary  Exited  \n",
       "0        101348.88       1  \n",
       "1        112542.58       0  \n",
       "2        113931.57       1  \n",
       "3         93826.63       0  \n",
       "4         79084.10       0  \n",
       "5        149756.71       1  \n",
       "6         10062.80       0  \n",
       "7        119346.88       1  \n",
       "8         74940.50       0  \n",
       "9         71725.73       0  "
      ]
     },
     "execution_count": 84,
     "metadata": {},
     "output_type": "execute_result"
    }
   ],
   "source": [
    "dataset.head(10)"
   ]
  },
  {
   "cell_type": "code",
   "execution_count": 85,
   "metadata": {},
   "outputs": [],
   "source": [
    "X = dataset.iloc[:,3:13].values\n",
    "y = dataset.iloc[:,13].values"
   ]
  },
  {
   "cell_type": "code",
   "execution_count": 86,
   "metadata": {},
   "outputs": [
    {
     "data": {
      "text/plain": [
       "array([[619, 0, 0, ..., 1, 1, 101348.88],\n",
       "       [608, 2, 0, ..., 0, 1, 112542.58],\n",
       "       [502, 0, 0, ..., 1, 0, 113931.57],\n",
       "       ...,\n",
       "       [709, 0, 0, ..., 0, 1, 42085.58],\n",
       "       [772, 1, 1, ..., 1, 0, 92888.52],\n",
       "       [792, 0, 0, ..., 1, 0, 38190.78]], dtype=object)"
      ]
     },
     "execution_count": 86,
     "metadata": {},
     "output_type": "execute_result"
    }
   ],
   "source": [
    "labelencoder_X_1 = LabelEncoder()\n",
    "X[:,1] = labelencoder_X_1.fit_transform(X[:,1])\n",
    "labelencoder_X_2 = LabelEncoder()\n",
    "X[:,2] = labelencoder_X_2.fit_transform(X[:,2])\n",
    "X"
   ]
  },
  {
   "cell_type": "code",
   "execution_count": 87,
   "metadata": {},
   "outputs": [
    {
     "name": "stdout",
     "output_type": "stream",
     "text": [
      "[619 0 0 42 2 0.0 1 1 1 101348.88]\n",
      "[608 2 0 41 1 83807.86 1 0 1 112542.58]\n"
     ]
    }
   ],
   "source": [
    "for i in range(2):\n",
    "    print(X[i])"
   ]
  },
  {
   "cell_type": "code",
   "execution_count": 88,
   "metadata": {},
   "outputs": [],
   "source": [
    "onehotencoder = OneHotEncoder(categorical_features = [1])\n",
    "X = onehotencoder.fit_transform(X).toarray()"
   ]
  },
  {
   "cell_type": "code",
   "execution_count": 64,
   "metadata": {},
   "outputs": [
    {
     "name": "stdout",
     "output_type": "stream",
     "text": [
      "[1.0000000e+00 0.0000000e+00 0.0000000e+00 6.1900000e+02 0.0000000e+00\n",
      " 4.2000000e+01 2.0000000e+00 0.0000000e+00 1.0000000e+00 1.0000000e+00\n",
      " 1.0000000e+00 1.0134888e+05]\n",
      "[0.0000000e+00 0.0000000e+00 1.0000000e+00 6.0800000e+02 0.0000000e+00\n",
      " 4.1000000e+01 1.0000000e+00 8.3807860e+04 1.0000000e+00 0.0000000e+00\n",
      " 1.0000000e+00 1.1254258e+05]\n",
      "[1.0000000e+00 0.0000000e+00 0.0000000e+00 5.0200000e+02 0.0000000e+00\n",
      " 4.2000000e+01 8.0000000e+00 1.5966080e+05 3.0000000e+00 1.0000000e+00\n",
      " 0.0000000e+00 1.1393157e+05]\n",
      "[1.000000e+00 0.000000e+00 0.000000e+00 6.990000e+02 0.000000e+00\n",
      " 3.900000e+01 1.000000e+00 0.000000e+00 2.000000e+00 0.000000e+00\n",
      " 0.000000e+00 9.382663e+04]\n",
      "[0.0000000e+00 0.0000000e+00 1.0000000e+00 8.5000000e+02 0.0000000e+00\n",
      " 4.3000000e+01 2.0000000e+00 1.2551082e+05 1.0000000e+00 1.0000000e+00\n",
      " 1.0000000e+00 7.9084100e+04]\n",
      "[0.0000000e+00 0.0000000e+00 1.0000000e+00 6.4500000e+02 1.0000000e+00\n",
      " 4.4000000e+01 8.0000000e+00 1.1375578e+05 2.0000000e+00 1.0000000e+00\n",
      " 0.0000000e+00 1.4975671e+05]\n",
      "[1.00000e+00 0.00000e+00 0.00000e+00 8.22000e+02 1.00000e+00 5.00000e+01\n",
      " 7.00000e+00 0.00000e+00 2.00000e+00 1.00000e+00 1.00000e+00 1.00628e+04]\n",
      "[0.0000000e+00 1.0000000e+00 0.0000000e+00 3.7600000e+02 0.0000000e+00\n",
      " 2.9000000e+01 4.0000000e+00 1.1504674e+05 4.0000000e+00 1.0000000e+00\n",
      " 0.0000000e+00 1.1934688e+05]\n"
     ]
    }
   ],
   "source": [
    "for i in range(8):\n",
    "    print(X[i])"
   ]
  },
  {
   "cell_type": "code",
   "execution_count": 89,
   "metadata": {},
   "outputs": [],
   "source": [
    "#Spliting the data in train and test\n",
    "X_train, X_test, y_train, y_test = train_test_split(X, y, test_size=0.2, random_state=0)"
   ]
  },
  {
   "cell_type": "code",
   "execution_count": 90,
   "metadata": {},
   "outputs": [],
   "source": [
    "#Feature Scaling\n",
    "sc = StandardScaler()\n",
    "X_train = sc.fit_transform(X_train)\n",
    "X_test = sc.transform(X_test)"
   ]
  },
  {
   "cell_type": "code",
   "execution_count": 67,
   "metadata": {},
   "outputs": [
    {
     "data": {
      "text/plain": [
       "(2000, 12)"
      ]
     },
     "execution_count": 67,
     "metadata": {},
     "output_type": "execute_result"
    }
   ],
   "source": [
    "X_test.shape"
   ]
  },
  {
   "cell_type": "code",
   "execution_count": 94,
   "metadata": {},
   "outputs": [],
   "source": [
    "#import the keras libraries and packages\n",
    "import keras\n",
    "from keras.models import Sequential\n",
    "from keras.layers import Dense\n",
    "from keras.layers import Dropout"
   ]
  },
  {
   "cell_type": "code",
   "execution_count": 95,
   "metadata": {},
   "outputs": [],
   "source": [
    "#Inicialization the Neural-Network\n",
    "classifier = Sequential()"
   ]
  },
  {
   "cell_type": "code",
   "execution_count": 96,
   "metadata": {},
   "outputs": [],
   "source": [
    "#Adding the input layer and the first hidden layer\n",
    "classifier.add(Dense(6, kernel_initializer = 'uniform', activation = 'relu', input_dim = 12))\n",
    "classifier.add(Dropout(0.1))\n",
    "#Adding the second hidden layer\n",
    "classifier.add(Dense(6, kernel_initializer = 'uniform', activation = 'relu'))\n",
    "classifier.add(Dropout(0.1))"
   ]
  },
  {
   "cell_type": "code",
   "execution_count": 97,
   "metadata": {},
   "outputs": [],
   "source": [
    "#Adding hte output layer\n",
    "classifier.add(Dense(1, kernel_initializer='uniform', activation = 'sigmoid'))"
   ]
  },
  {
   "cell_type": "code",
   "execution_count": 98,
   "metadata": {},
   "outputs": [],
   "source": [
    "#Compile ANN\n",
    "classifier.compile(optimizer = 'adam', loss = 'binary_crossentropy', metrics = ['accuracy'])"
   ]
  },
  {
   "cell_type": "code",
   "execution_count": 99,
   "metadata": {},
   "outputs": [
    {
     "name": "stderr",
     "output_type": "stream",
     "text": [
      "/home/diegojavier/.local/lib/python3.5/site-packages/ipykernel_launcher.py:1: UserWarning: The `nb_epoch` argument in `fit` has been renamed `epochs`.\n",
      "  \"\"\"Entry point for launching an IPython kernel.\n"
     ]
    },
    {
     "name": "stdout",
     "output_type": "stream",
     "text": [
      "Epoch 1/100\n",
      "8000/8000 [==============================] - 3s 326us/step - loss: 0.5542 - acc: 0.7950\n",
      "Epoch 2/100\n",
      "8000/8000 [==============================] - 0s 52us/step - loss: 0.4452 - acc: 0.7960\n",
      "Epoch 3/100\n",
      "8000/8000 [==============================] - 0s 52us/step - loss: 0.4367 - acc: 0.7960\n",
      "Epoch 4/100\n",
      "8000/8000 [==============================] - 0s 53us/step - loss: 0.4334 - acc: 0.7960\n",
      "Epoch 5/100\n",
      "8000/8000 [==============================] - 0s 52us/step - loss: 0.4341 - acc: 0.7960\n",
      "Epoch 6/100\n",
      "8000/8000 [==============================] - 0s 53us/step - loss: 0.4303 - acc: 0.7960\n",
      "Epoch 7/100\n",
      "8000/8000 [==============================] - 0s 53us/step - loss: 0.4317 - acc: 0.7960\n",
      "Epoch 8/100\n",
      "8000/8000 [==============================] - 0s 53us/step - loss: 0.4304 - acc: 0.7960\n",
      "Epoch 9/100\n",
      "8000/8000 [==============================] - 0s 53us/step - loss: 0.4278 - acc: 0.7960\n",
      "Epoch 10/100\n",
      "8000/8000 [==============================] - 0s 55us/step - loss: 0.4311 - acc: 0.7960\n",
      "Epoch 11/100\n",
      "8000/8000 [==============================] - 0s 60us/step - loss: 0.4263 - acc: 0.7960\n",
      "Epoch 12/100\n",
      "8000/8000 [==============================] - 0s 55us/step - loss: 0.4298 - acc: 0.8174\n",
      "Epoch 13/100\n",
      "8000/8000 [==============================] - 0s 59us/step - loss: 0.4293 - acc: 0.8214\n",
      "Epoch 14/100\n",
      "8000/8000 [==============================] - 0s 60us/step - loss: 0.4268 - acc: 0.8234\n",
      "Epoch 15/100\n",
      "8000/8000 [==============================] - 0s 54us/step - loss: 0.4246 - acc: 0.8237\n",
      "Epoch 16/100\n",
      "8000/8000 [==============================] - 0s 53us/step - loss: 0.4258 - acc: 0.8255\n",
      "Epoch 17/100\n",
      "8000/8000 [==============================] - 0s 54us/step - loss: 0.4272 - acc: 0.8264\n",
      "Epoch 18/100\n",
      "8000/8000 [==============================] - 0s 54us/step - loss: 0.4270 - acc: 0.8266\n",
      "Epoch 19/100\n",
      "8000/8000 [==============================] - 0s 54us/step - loss: 0.4297 - acc: 0.8262\n",
      "Epoch 20/100\n",
      "8000/8000 [==============================] - 0s 61us/step - loss: 0.4266 - acc: 0.8291\n",
      "Epoch 21/100\n",
      "8000/8000 [==============================] - 0s 56us/step - loss: 0.4280 - acc: 0.8292\n",
      "Epoch 22/100\n",
      "8000/8000 [==============================] - 0s 55us/step - loss: 0.4244 - acc: 0.8280\n",
      "Epoch 23/100\n",
      "8000/8000 [==============================] - 0s 59us/step - loss: 0.4277 - acc: 0.8286\n",
      "Epoch 24/100\n",
      "8000/8000 [==============================] - 0s 54us/step - loss: 0.4265 - acc: 0.8294\n",
      "Epoch 25/100\n",
      "8000/8000 [==============================] - 0s 53us/step - loss: 0.4273 - acc: 0.8285\n",
      "Epoch 26/100\n",
      "8000/8000 [==============================] - 0s 59us/step - loss: 0.4254 - acc: 0.8289\n",
      "Epoch 27/100\n",
      "8000/8000 [==============================] - 0s 56us/step - loss: 0.4255 - acc: 0.8291\n",
      "Epoch 28/100\n",
      "8000/8000 [==============================] - 0s 54us/step - loss: 0.4253 - acc: 0.8305\n",
      "Epoch 29/100\n",
      "8000/8000 [==============================] - 0s 54us/step - loss: 0.4236 - acc: 0.8299\n",
      "Epoch 30/100\n",
      "8000/8000 [==============================] - 0s 54us/step - loss: 0.4273 - acc: 0.8306\n",
      "Epoch 31/100\n",
      "8000/8000 [==============================] - 0s 60us/step - loss: 0.4263 - acc: 0.8297\n",
      "Epoch 32/100\n",
      "8000/8000 [==============================] - 0s 53us/step - loss: 0.4226 - acc: 0.8306\n",
      "Epoch 33/100\n",
      "8000/8000 [==============================] - 0s 53us/step - loss: 0.4256 - acc: 0.8296\n",
      "Epoch 34/100\n",
      "8000/8000 [==============================] - 0s 53us/step - loss: 0.4222 - acc: 0.8317\n",
      "Epoch 35/100\n",
      "8000/8000 [==============================] - 0s 52us/step - loss: 0.4258 - acc: 0.8310\n",
      "Epoch 36/100\n",
      "8000/8000 [==============================] - 0s 58us/step - loss: 0.4234 - acc: 0.8306\n",
      "Epoch 37/100\n",
      "8000/8000 [==============================] - 0s 59us/step - loss: 0.4280 - acc: 0.8297\n",
      "Epoch 38/100\n",
      "8000/8000 [==============================] - 0s 59us/step - loss: 0.4281 - acc: 0.8272\n",
      "Epoch 39/100\n",
      "8000/8000 [==============================] - 0s 61us/step - loss: 0.4279 - acc: 0.8311\n",
      "Epoch 40/100\n",
      "8000/8000 [==============================] - 0s 52us/step - loss: 0.4250 - acc: 0.8325\n",
      "Epoch 41/100\n",
      "8000/8000 [==============================] - 0s 52us/step - loss: 0.4231 - acc: 0.8314\n",
      "Epoch 42/100\n",
      "8000/8000 [==============================] - 0s 53us/step - loss: 0.4273 - acc: 0.8302\n",
      "Epoch 43/100\n",
      "8000/8000 [==============================] - 0s 53us/step - loss: 0.4209 - acc: 0.8299\n",
      "Epoch 44/100\n",
      "8000/8000 [==============================] - 0s 53us/step - loss: 0.4227 - acc: 0.8302\n",
      "Epoch 45/100\n",
      "8000/8000 [==============================] - 0s 53us/step - loss: 0.4232 - acc: 0.8294\n",
      "Epoch 46/100\n",
      "8000/8000 [==============================] - 0s 55us/step - loss: 0.4236 - acc: 0.8301\n",
      "Epoch 47/100\n",
      "8000/8000 [==============================] - 1s 63us/step - loss: 0.4197 - acc: 0.8315\n",
      "Epoch 48/100\n",
      "8000/8000 [==============================] - 1s 64us/step - loss: 0.4248 - acc: 0.8307\n",
      "Epoch 49/100\n",
      "8000/8000 [==============================] - 0s 58us/step - loss: 0.4260 - acc: 0.8325\n",
      "Epoch 50/100\n",
      "8000/8000 [==============================] - 1s 68us/step - loss: 0.4271 - acc: 0.8285\n",
      "Epoch 51/100\n",
      "8000/8000 [==============================] - 1s 63us/step - loss: 0.4249 - acc: 0.8327\n",
      "Epoch 52/100\n",
      "8000/8000 [==============================] - 0s 55us/step - loss: 0.4213 - acc: 0.8325\n",
      "Epoch 53/100\n",
      "8000/8000 [==============================] - 0s 53us/step - loss: 0.4256 - acc: 0.8324\n",
      "Epoch 54/100\n",
      "8000/8000 [==============================] - 0s 50us/step - loss: 0.4236 - acc: 0.8301\n",
      "Epoch 55/100\n",
      "8000/8000 [==============================] - 0s 53us/step - loss: 0.4227 - acc: 0.8325\n",
      "Epoch 56/100\n",
      "8000/8000 [==============================] - 0s 53us/step - loss: 0.4247 - acc: 0.8305\n",
      "Epoch 57/100\n",
      "8000/8000 [==============================] - 1s 69us/step - loss: 0.4238 - acc: 0.8324\n",
      "Epoch 58/100\n",
      "8000/8000 [==============================] - 0s 62us/step - loss: 0.4216 - acc: 0.8316\n",
      "Epoch 59/100\n",
      "8000/8000 [==============================] - 1s 67us/step - loss: 0.4224 - acc: 0.8309\n",
      "Epoch 60/100\n",
      "8000/8000 [==============================] - 1s 98us/step - loss: 0.4225 - acc: 0.8321\n",
      "Epoch 61/100\n",
      "8000/8000 [==============================] - 1s 76us/step - loss: 0.4266 - acc: 0.8296\n",
      "Epoch 62/100\n",
      "8000/8000 [==============================] - 1s 90us/step - loss: 0.4236 - acc: 0.8344\n",
      "Epoch 63/100\n",
      "8000/8000 [==============================] - 1s 107us/step - loss: 0.4216 - acc: 0.8305\n",
      "Epoch 64/100\n",
      "8000/8000 [==============================] - 1s 102us/step - loss: 0.4241 - acc: 0.8327\n",
      "Epoch 65/100\n",
      "8000/8000 [==============================] - 0s 60us/step - loss: 0.4222 - acc: 0.8309\n",
      "Epoch 66/100\n",
      "8000/8000 [==============================] - 1s 91us/step - loss: 0.4247 - acc: 0.8311\n",
      "Epoch 67/100\n",
      "8000/8000 [==============================] - 1s 86us/step - loss: 0.4247 - acc: 0.8315\n",
      "Epoch 68/100\n",
      "8000/8000 [==============================] - 0s 59us/step - loss: 0.4216 - acc: 0.8330\n",
      "Epoch 69/100\n",
      "8000/8000 [==============================] - 0s 55us/step - loss: 0.4239 - acc: 0.8321\n",
      "Epoch 70/100\n",
      "8000/8000 [==============================] - 0s 53us/step - loss: 0.4211 - acc: 0.8324\n",
      "Epoch 71/100\n",
      "8000/8000 [==============================] - 1s 68us/step - loss: 0.4228 - acc: 0.8321\n",
      "Epoch 72/100\n",
      "8000/8000 [==============================] - 1s 67us/step - loss: 0.4195 - acc: 0.8311\n",
      "Epoch 73/100\n",
      "8000/8000 [==============================] - 0s 61us/step - loss: 0.4183 - acc: 0.8331\n",
      "Epoch 74/100\n",
      "8000/8000 [==============================] - 0s 58us/step - loss: 0.4213 - acc: 0.8330\n",
      "Epoch 75/100\n",
      "8000/8000 [==============================] - 1s 72us/step - loss: 0.4183 - acc: 0.8311\n",
      "Epoch 76/100\n",
      "8000/8000 [==============================] - 0s 52us/step - loss: 0.4135 - acc: 0.8319\n",
      "Epoch 77/100\n",
      "8000/8000 [==============================] - 0s 52us/step - loss: 0.4177 - acc: 0.8315\n",
      "Epoch 78/100\n",
      "8000/8000 [==============================] - 1s 68us/step - loss: 0.4175 - acc: 0.8272\n",
      "Epoch 79/100\n",
      "8000/8000 [==============================] - 1s 66us/step - loss: 0.4153 - acc: 0.8299\n",
      "Epoch 80/100\n",
      "8000/8000 [==============================] - 0s 55us/step - loss: 0.4190 - acc: 0.8282\n",
      "Epoch 81/100\n",
      "8000/8000 [==============================] - 0s 51us/step - loss: 0.4160 - acc: 0.8276\n",
      "Epoch 82/100\n",
      "8000/8000 [==============================] - 0s 52us/step - loss: 0.4180 - acc: 0.8286\n"
     ]
    },
    {
     "name": "stdout",
     "output_type": "stream",
     "text": [
      "Epoch 83/100\n",
      "8000/8000 [==============================] - 0s 51us/step - loss: 0.4142 - acc: 0.8295\n",
      "Epoch 84/100\n",
      "8000/8000 [==============================] - 1s 63us/step - loss: 0.4172 - acc: 0.8275\n",
      "Epoch 85/100\n",
      "8000/8000 [==============================] - 1s 71us/step - loss: 0.4168 - acc: 0.8275\n",
      "Epoch 86/100\n",
      "8000/8000 [==============================] - 0s 62us/step - loss: 0.4108 - acc: 0.8320\n",
      "Epoch 87/100\n",
      "8000/8000 [==============================] - 1s 91us/step - loss: 0.4167 - acc: 0.8285\n",
      "Epoch 88/100\n",
      "8000/8000 [==============================] - 0s 62us/step - loss: 0.4136 - acc: 0.8286\n",
      "Epoch 89/100\n",
      "8000/8000 [==============================] - 0s 56us/step - loss: 0.4157 - acc: 0.8269\n",
      "Epoch 90/100\n",
      "8000/8000 [==============================] - 1s 63us/step - loss: 0.4155 - acc: 0.8296\n",
      "Epoch 91/100\n",
      "8000/8000 [==============================] - 0s 57us/step - loss: 0.4114 - acc: 0.8310\n",
      "Epoch 92/100\n",
      "8000/8000 [==============================] - 0s 56us/step - loss: 0.4146 - acc: 0.8329\n",
      "Epoch 93/100\n",
      "8000/8000 [==============================] - 0s 52us/step - loss: 0.4095 - acc: 0.8297\n",
      "Epoch 94/100\n",
      "8000/8000 [==============================] - 0s 51us/step - loss: 0.4126 - acc: 0.8311\n",
      "Epoch 95/100\n",
      "8000/8000 [==============================] - 0s 50us/step - loss: 0.4123 - acc: 0.8295\n",
      "Epoch 96/100\n",
      "8000/8000 [==============================] - 0s 50us/step - loss: 0.4152 - acc: 0.8296\n",
      "Epoch 97/100\n",
      "8000/8000 [==============================] - 0s 51us/step - loss: 0.4105 - acc: 0.8301\n",
      "Epoch 98/100\n",
      "8000/8000 [==============================] - 0s 50us/step - loss: 0.4138 - acc: 0.8294\n",
      "Epoch 99/100\n",
      "8000/8000 [==============================] - 0s 62us/step - loss: 0.4127 - acc: 0.8309\n",
      "Epoch 100/100\n",
      "8000/8000 [==============================] - 0s 50us/step - loss: 0.4107 - acc: 0.8311\n"
     ]
    },
    {
     "data": {
      "text/plain": [
       "<keras.callbacks.History at 0x7f81d7d24588>"
      ]
     },
     "execution_count": 99,
     "metadata": {},
     "output_type": "execute_result"
    }
   ],
   "source": [
    "classifier.fit(X_train, y_train, batch_size=25, nb_epoch=100)"
   ]
  },
  {
   "cell_type": "code",
   "execution_count": 100,
   "metadata": {},
   "outputs": [],
   "source": [
    "#Predict de result\n",
    "y_pred = classifier.predict(X_test)\n",
    "y_pred = (y_pred > 0.5)"
   ]
  },
  {
   "cell_type": "code",
   "execution_count": 101,
   "metadata": {},
   "outputs": [
    {
     "name": "stdout",
     "output_type": "stream",
     "text": [
      "[False]\n",
      "[False]\n",
      "[False]\n",
      "[False]\n",
      "[False]\n",
      "[ True]\n",
      "[False]\n",
      "[False]\n",
      "[False]\n",
      "[ True]\n",
      "[False]\n",
      "[False]\n",
      "[False]\n",
      "[False]\n",
      "[ True]\n",
      "[False]\n",
      "[False]\n",
      "[False]\n",
      "[False]\n",
      "[False]\n"
     ]
    }
   ],
   "source": [
    "for i in range(20):\n",
    "    print(y_pred[i])"
   ]
  },
  {
   "cell_type": "code",
   "execution_count": 102,
   "metadata": {},
   "outputs": [
    {
     "name": "stdout",
     "output_type": "stream",
     "text": [
      "0\n",
      "1\n",
      "0\n",
      "0\n",
      "0\n",
      "1\n",
      "0\n",
      "0\n",
      "1\n",
      "1\n",
      "0\n",
      "0\n",
      "0\n",
      "0\n",
      "1\n",
      "1\n",
      "0\n",
      "0\n",
      "0\n",
      "0\n"
     ]
    }
   ],
   "source": [
    "for i in range(20):\n",
    "    print(y_test[i])"
   ]
  },
  {
   "cell_type": "code",
   "execution_count": 103,
   "metadata": {},
   "outputs": [],
   "source": [
    "from sklearn.metrics import confusion_matrix\n",
    "cm = confusion_matrix(y_test, y_pred)"
   ]
  },
  {
   "cell_type": "code",
   "execution_count": 104,
   "metadata": {},
   "outputs": [
    {
     "data": {
      "text/plain": [
       "array([[1549,   46],\n",
       "       [ 261,  144]])"
      ]
     },
     "execution_count": 104,
     "metadata": {},
     "output_type": "execute_result"
    }
   ],
   "source": [
    "cm"
   ]
  },
  {
   "cell_type": "code",
   "execution_count": 105,
   "metadata": {},
   "outputs": [
    {
     "data": {
      "text/plain": [
       "0.8465"
      ]
     },
     "execution_count": 105,
     "metadata": {},
     "output_type": "execute_result"
    }
   ],
   "source": [
    "(1549+144)/2000"
   ]
  },
  {
   "cell_type": "code",
   "execution_count": 53,
   "metadata": {},
   "outputs": [],
   "source": [
    "#Estimando el valor de 1 instancia\n",
    "new_prediction = classifier.predict(sc.transform(np.array([[1, 0, 0, 600, 1, 40, 3, 60000, 2, 1, 1, 50000]])))"
   ]
  },
  {
   "cell_type": "code",
   "execution_count": 54,
   "metadata": {},
   "outputs": [
    {
     "data": {
      "text/plain": [
       "array([[False]])"
      ]
     },
     "execution_count": 54,
     "metadata": {},
     "output_type": "execute_result"
    }
   ],
   "source": [
    "new_prediction = (new_prediction>0.5)\n",
    "new_prediction"
   ]
  },
  {
   "cell_type": "code",
   "execution_count": 55,
   "metadata": {},
   "outputs": [],
   "source": [
    "#Evaluating the ANN\n",
    "from keras.wrappers.scikit_learn import  KerasClassifier\n",
    "from sklearn.model_selection import cross_val_score\n",
    "\n",
    "def build_classifier():\n",
    "    classifier = Sequential()\n",
    "    classifier.add(Dense(6, kernel_initializer = 'uniform', activation = 'relu', input_dim = 12))\n",
    "    #Adding the second hidden layer\n",
    "    classifier.add(Dense(6, kernel_initializer = 'uniform', activation = 'relu'))\n",
    "    classifier.add(Dense(1, kernel_initializer='uniform', activation = 'sigmoid'))\n",
    "    classifier.compile(optimizer = 'adam', loss = 'binary_crossentropy', metrics = ['accuracy'])\n",
    "    \n",
    "    return classifier\n"
   ]
  },
  {
   "cell_type": "code",
   "execution_count": 81,
   "metadata": {},
   "outputs": [
    {
     "name": "stdout",
     "output_type": "stream",
     "text": [
      "Epoch 1/1\n",
      "Epoch 1/1\n",
      "Epoch 1/1\n",
      "Epoch 1/1\n",
      "Epoch 1/1\n",
      "Epoch 1/1\n",
      "Epoch 1/1\n",
      "Epoch 1/1\n"
     ]
    },
    {
     "ename": "KeyboardInterrupt",
     "evalue": "",
     "output_type": "error",
     "traceback": [
      "\u001b[0;31m---------------------------------------------------------------------------\u001b[0m",
      "\u001b[0;31mKeyboardInterrupt\u001b[0m                         Traceback (most recent call last)",
      "\u001b[0;32m<ipython-input-81-8b36fe1f36a9>\u001b[0m in \u001b[0;36m<module>\u001b[0;34m\u001b[0m\n\u001b[1;32m      1\u001b[0m \u001b[0mclassifier\u001b[0m \u001b[0;34m=\u001b[0m \u001b[0mKerasClassifier\u001b[0m\u001b[0;34m(\u001b[0m\u001b[0mbuild_fn\u001b[0m \u001b[0;34m=\u001b[0m \u001b[0mbuild_classifier\u001b[0m\u001b[0;34m,\u001b[0m \u001b[0mbatch_size\u001b[0m\u001b[0;34m=\u001b[0m\u001b[0;36m10\u001b[0m\u001b[0;34m,\u001b[0m \u001b[0mnb_epoch\u001b[0m\u001b[0;34m=\u001b[0m\u001b[0;36m100\u001b[0m\u001b[0;34m)\u001b[0m\u001b[0;34m\u001b[0m\u001b[0m\n\u001b[0;32m----> 2\u001b[0;31m \u001b[0mcross_val_score\u001b[0m\u001b[0;34m(\u001b[0m\u001b[0mestimator\u001b[0m \u001b[0;34m=\u001b[0m \u001b[0mclassifier\u001b[0m\u001b[0;34m,\u001b[0m \u001b[0mX\u001b[0m \u001b[0;34m=\u001b[0m \u001b[0mX_train\u001b[0m\u001b[0;34m,\u001b[0m \u001b[0my\u001b[0m \u001b[0;34m=\u001b[0m \u001b[0my_train\u001b[0m\u001b[0;34m,\u001b[0m \u001b[0mcv\u001b[0m \u001b[0;34m=\u001b[0m \u001b[0;36m10\u001b[0m\u001b[0;34m,\u001b[0m \u001b[0mn_jobs\u001b[0m \u001b[0;34m=\u001b[0m \u001b[0;34m-\u001b[0m\u001b[0;36m1\u001b[0m\u001b[0;34m)\u001b[0m\u001b[0;34m\u001b[0m\u001b[0m\n\u001b[0m",
      "\u001b[0;32m~/.local/lib/python3.5/site-packages/sklearn/model_selection/_validation.py\u001b[0m in \u001b[0;36mcross_val_score\u001b[0;34m(estimator, X, y, groups, scoring, cv, n_jobs, verbose, fit_params, pre_dispatch)\u001b[0m\n\u001b[1;32m    340\u001b[0m                                 \u001b[0mn_jobs\u001b[0m\u001b[0;34m=\u001b[0m\u001b[0mn_jobs\u001b[0m\u001b[0;34m,\u001b[0m \u001b[0mverbose\u001b[0m\u001b[0;34m=\u001b[0m\u001b[0mverbose\u001b[0m\u001b[0;34m,\u001b[0m\u001b[0;34m\u001b[0m\u001b[0m\n\u001b[1;32m    341\u001b[0m                                 \u001b[0mfit_params\u001b[0m\u001b[0;34m=\u001b[0m\u001b[0mfit_params\u001b[0m\u001b[0;34m,\u001b[0m\u001b[0;34m\u001b[0m\u001b[0m\n\u001b[0;32m--> 342\u001b[0;31m                                 pre_dispatch=pre_dispatch)\n\u001b[0m\u001b[1;32m    343\u001b[0m     \u001b[0;32mreturn\u001b[0m \u001b[0mcv_results\u001b[0m\u001b[0;34m[\u001b[0m\u001b[0;34m'test_score'\u001b[0m\u001b[0;34m]\u001b[0m\u001b[0;34m\u001b[0m\u001b[0m\n\u001b[1;32m    344\u001b[0m \u001b[0;34m\u001b[0m\u001b[0m\n",
      "\u001b[0;32m~/.local/lib/python3.5/site-packages/sklearn/model_selection/_validation.py\u001b[0m in \u001b[0;36mcross_validate\u001b[0;34m(estimator, X, y, groups, scoring, cv, n_jobs, verbose, fit_params, pre_dispatch, return_train_score)\u001b[0m\n\u001b[1;32m    204\u001b[0m             \u001b[0mfit_params\u001b[0m\u001b[0;34m,\u001b[0m \u001b[0mreturn_train_score\u001b[0m\u001b[0;34m=\u001b[0m\u001b[0mreturn_train_score\u001b[0m\u001b[0;34m,\u001b[0m\u001b[0;34m\u001b[0m\u001b[0m\n\u001b[1;32m    205\u001b[0m             return_times=True)\n\u001b[0;32m--> 206\u001b[0;31m         for train, test in cv.split(X, y, groups))\n\u001b[0m\u001b[1;32m    207\u001b[0m \u001b[0;34m\u001b[0m\u001b[0m\n\u001b[1;32m    208\u001b[0m     \u001b[0;32mif\u001b[0m \u001b[0mreturn_train_score\u001b[0m\u001b[0;34m:\u001b[0m\u001b[0;34m\u001b[0m\u001b[0m\n",
      "\u001b[0;32m~/.local/lib/python3.5/site-packages/sklearn/externals/joblib/parallel.py\u001b[0m in \u001b[0;36m__call__\u001b[0;34m(self, iterable)\u001b[0m\n\u001b[1;32m    787\u001b[0m                 \u001b[0;31m# consumption.\u001b[0m\u001b[0;34m\u001b[0m\u001b[0;34m\u001b[0m\u001b[0m\n\u001b[1;32m    788\u001b[0m                 \u001b[0mself\u001b[0m\u001b[0;34m.\u001b[0m\u001b[0m_iterating\u001b[0m \u001b[0;34m=\u001b[0m \u001b[0;32mFalse\u001b[0m\u001b[0;34m\u001b[0m\u001b[0m\n\u001b[0;32m--> 789\u001b[0;31m             \u001b[0mself\u001b[0m\u001b[0;34m.\u001b[0m\u001b[0mretrieve\u001b[0m\u001b[0;34m(\u001b[0m\u001b[0;34m)\u001b[0m\u001b[0;34m\u001b[0m\u001b[0m\n\u001b[0m\u001b[1;32m    790\u001b[0m             \u001b[0;31m# Make sure that we get a last message telling us we are done\u001b[0m\u001b[0;34m\u001b[0m\u001b[0;34m\u001b[0m\u001b[0m\n\u001b[1;32m    791\u001b[0m             \u001b[0melapsed_time\u001b[0m \u001b[0;34m=\u001b[0m \u001b[0mtime\u001b[0m\u001b[0;34m.\u001b[0m\u001b[0mtime\u001b[0m\u001b[0;34m(\u001b[0m\u001b[0;34m)\u001b[0m \u001b[0;34m-\u001b[0m \u001b[0mself\u001b[0m\u001b[0;34m.\u001b[0m\u001b[0m_start_time\u001b[0m\u001b[0;34m\u001b[0m\u001b[0m\n",
      "\u001b[0;32m~/.local/lib/python3.5/site-packages/sklearn/externals/joblib/parallel.py\u001b[0m in \u001b[0;36mretrieve\u001b[0;34m(self)\u001b[0m\n\u001b[1;32m    697\u001b[0m             \u001b[0;32mtry\u001b[0m\u001b[0;34m:\u001b[0m\u001b[0;34m\u001b[0m\u001b[0m\n\u001b[1;32m    698\u001b[0m                 \u001b[0;32mif\u001b[0m \u001b[0mgetattr\u001b[0m\u001b[0;34m(\u001b[0m\u001b[0mself\u001b[0m\u001b[0;34m.\u001b[0m\u001b[0m_backend\u001b[0m\u001b[0;34m,\u001b[0m \u001b[0;34m'supports_timeout'\u001b[0m\u001b[0;34m,\u001b[0m \u001b[0;32mFalse\u001b[0m\u001b[0;34m)\u001b[0m\u001b[0;34m:\u001b[0m\u001b[0;34m\u001b[0m\u001b[0m\n\u001b[0;32m--> 699\u001b[0;31m                     \u001b[0mself\u001b[0m\u001b[0;34m.\u001b[0m\u001b[0m_output\u001b[0m\u001b[0;34m.\u001b[0m\u001b[0mextend\u001b[0m\u001b[0;34m(\u001b[0m\u001b[0mjob\u001b[0m\u001b[0;34m.\u001b[0m\u001b[0mget\u001b[0m\u001b[0;34m(\u001b[0m\u001b[0mtimeout\u001b[0m\u001b[0;34m=\u001b[0m\u001b[0mself\u001b[0m\u001b[0;34m.\u001b[0m\u001b[0mtimeout\u001b[0m\u001b[0;34m)\u001b[0m\u001b[0;34m)\u001b[0m\u001b[0;34m\u001b[0m\u001b[0m\n\u001b[0m\u001b[1;32m    700\u001b[0m                 \u001b[0;32melse\u001b[0m\u001b[0;34m:\u001b[0m\u001b[0;34m\u001b[0m\u001b[0m\n\u001b[1;32m    701\u001b[0m                     \u001b[0mself\u001b[0m\u001b[0;34m.\u001b[0m\u001b[0m_output\u001b[0m\u001b[0;34m.\u001b[0m\u001b[0mextend\u001b[0m\u001b[0;34m(\u001b[0m\u001b[0mjob\u001b[0m\u001b[0;34m.\u001b[0m\u001b[0mget\u001b[0m\u001b[0;34m(\u001b[0m\u001b[0;34m)\u001b[0m\u001b[0;34m)\u001b[0m\u001b[0;34m\u001b[0m\u001b[0m\n",
      "\u001b[0;32m/usr/lib/python3.5/multiprocessing/pool.py\u001b[0m in \u001b[0;36mget\u001b[0;34m(self, timeout)\u001b[0m\n\u001b[1;32m    600\u001b[0m \u001b[0;34m\u001b[0m\u001b[0m\n\u001b[1;32m    601\u001b[0m     \u001b[0;32mdef\u001b[0m \u001b[0mget\u001b[0m\u001b[0;34m(\u001b[0m\u001b[0mself\u001b[0m\u001b[0;34m,\u001b[0m \u001b[0mtimeout\u001b[0m\u001b[0;34m=\u001b[0m\u001b[0;32mNone\u001b[0m\u001b[0;34m)\u001b[0m\u001b[0;34m:\u001b[0m\u001b[0;34m\u001b[0m\u001b[0m\n\u001b[0;32m--> 602\u001b[0;31m         \u001b[0mself\u001b[0m\u001b[0;34m.\u001b[0m\u001b[0mwait\u001b[0m\u001b[0;34m(\u001b[0m\u001b[0mtimeout\u001b[0m\u001b[0;34m)\u001b[0m\u001b[0;34m\u001b[0m\u001b[0m\n\u001b[0m\u001b[1;32m    603\u001b[0m         \u001b[0;32mif\u001b[0m \u001b[0;32mnot\u001b[0m \u001b[0mself\u001b[0m\u001b[0;34m.\u001b[0m\u001b[0mready\u001b[0m\u001b[0;34m(\u001b[0m\u001b[0;34m)\u001b[0m\u001b[0;34m:\u001b[0m\u001b[0;34m\u001b[0m\u001b[0m\n\u001b[1;32m    604\u001b[0m             \u001b[0;32mraise\u001b[0m \u001b[0mTimeoutError\u001b[0m\u001b[0;34m\u001b[0m\u001b[0m\n",
      "\u001b[0;32m/usr/lib/python3.5/multiprocessing/pool.py\u001b[0m in \u001b[0;36mwait\u001b[0;34m(self, timeout)\u001b[0m\n\u001b[1;32m    597\u001b[0m \u001b[0;34m\u001b[0m\u001b[0m\n\u001b[1;32m    598\u001b[0m     \u001b[0;32mdef\u001b[0m \u001b[0mwait\u001b[0m\u001b[0;34m(\u001b[0m\u001b[0mself\u001b[0m\u001b[0;34m,\u001b[0m \u001b[0mtimeout\u001b[0m\u001b[0;34m=\u001b[0m\u001b[0;32mNone\u001b[0m\u001b[0;34m)\u001b[0m\u001b[0;34m:\u001b[0m\u001b[0;34m\u001b[0m\u001b[0m\n\u001b[0;32m--> 599\u001b[0;31m         \u001b[0mself\u001b[0m\u001b[0;34m.\u001b[0m\u001b[0m_event\u001b[0m\u001b[0;34m.\u001b[0m\u001b[0mwait\u001b[0m\u001b[0;34m(\u001b[0m\u001b[0mtimeout\u001b[0m\u001b[0;34m)\u001b[0m\u001b[0;34m\u001b[0m\u001b[0m\n\u001b[0m\u001b[1;32m    600\u001b[0m \u001b[0;34m\u001b[0m\u001b[0m\n\u001b[1;32m    601\u001b[0m     \u001b[0;32mdef\u001b[0m \u001b[0mget\u001b[0m\u001b[0;34m(\u001b[0m\u001b[0mself\u001b[0m\u001b[0;34m,\u001b[0m \u001b[0mtimeout\u001b[0m\u001b[0;34m=\u001b[0m\u001b[0;32mNone\u001b[0m\u001b[0;34m)\u001b[0m\u001b[0;34m:\u001b[0m\u001b[0;34m\u001b[0m\u001b[0m\n",
      "\u001b[0;32m/usr/lib/python3.5/threading.py\u001b[0m in \u001b[0;36mwait\u001b[0;34m(self, timeout)\u001b[0m\n\u001b[1;32m    547\u001b[0m             \u001b[0msignaled\u001b[0m \u001b[0;34m=\u001b[0m \u001b[0mself\u001b[0m\u001b[0;34m.\u001b[0m\u001b[0m_flag\u001b[0m\u001b[0;34m\u001b[0m\u001b[0m\n\u001b[1;32m    548\u001b[0m             \u001b[0;32mif\u001b[0m \u001b[0;32mnot\u001b[0m \u001b[0msignaled\u001b[0m\u001b[0;34m:\u001b[0m\u001b[0;34m\u001b[0m\u001b[0m\n\u001b[0;32m--> 549\u001b[0;31m                 \u001b[0msignaled\u001b[0m \u001b[0;34m=\u001b[0m \u001b[0mself\u001b[0m\u001b[0;34m.\u001b[0m\u001b[0m_cond\u001b[0m\u001b[0;34m.\u001b[0m\u001b[0mwait\u001b[0m\u001b[0;34m(\u001b[0m\u001b[0mtimeout\u001b[0m\u001b[0;34m)\u001b[0m\u001b[0;34m\u001b[0m\u001b[0m\n\u001b[0m\u001b[1;32m    550\u001b[0m             \u001b[0;32mreturn\u001b[0m \u001b[0msignaled\u001b[0m\u001b[0;34m\u001b[0m\u001b[0m\n\u001b[1;32m    551\u001b[0m \u001b[0;34m\u001b[0m\u001b[0m\n",
      "\u001b[0;32m/usr/lib/python3.5/threading.py\u001b[0m in \u001b[0;36mwait\u001b[0;34m(self, timeout)\u001b[0m\n\u001b[1;32m    291\u001b[0m         \u001b[0;32mtry\u001b[0m\u001b[0;34m:\u001b[0m    \u001b[0;31m# restore state no matter what (e.g., KeyboardInterrupt)\u001b[0m\u001b[0;34m\u001b[0m\u001b[0m\n\u001b[1;32m    292\u001b[0m             \u001b[0;32mif\u001b[0m \u001b[0mtimeout\u001b[0m \u001b[0;32mis\u001b[0m \u001b[0;32mNone\u001b[0m\u001b[0;34m:\u001b[0m\u001b[0;34m\u001b[0m\u001b[0m\n\u001b[0;32m--> 293\u001b[0;31m                 \u001b[0mwaiter\u001b[0m\u001b[0;34m.\u001b[0m\u001b[0macquire\u001b[0m\u001b[0;34m(\u001b[0m\u001b[0;34m)\u001b[0m\u001b[0;34m\u001b[0m\u001b[0m\n\u001b[0m\u001b[1;32m    294\u001b[0m                 \u001b[0mgotit\u001b[0m \u001b[0;34m=\u001b[0m \u001b[0;32mTrue\u001b[0m\u001b[0;34m\u001b[0m\u001b[0m\n\u001b[1;32m    295\u001b[0m             \u001b[0;32melse\u001b[0m\u001b[0;34m:\u001b[0m\u001b[0;34m\u001b[0m\u001b[0m\n",
      "\u001b[0;31mKeyboardInterrupt\u001b[0m: "
     ]
    }
   ],
   "source": [
    "classifier = KerasClassifier(build_fn = build_classifier, batch_size=10, nb_epoch=100)\n",
    "cross_val_score(estimator = classifier, X = X_train, y = y_train, cv = 10, n_jobs = -1)"
   ]
  },
  {
   "cell_type": "code",
   "execution_count": null,
   "metadata": {},
   "outputs": [],
   "source": [
    "#Falta evaluar\n",
    "mean = accuracies.mean()\n",
    "variance = acccuracies.std()"
   ]
  },
  {
   "cell_type": "code",
   "execution_count": 92,
   "metadata": {},
   "outputs": [
    {
     "name": "stdout",
     "output_type": "stream",
     "text": [
      "Epoch 1/1\n",
      "7200/7200 [==============================] - 0s 54us/step - loss: 0.5581 - acc: 0.7949\n",
      "Epoch 1/1\n",
      "7200/7200 [==============================] - 0s 58us/step - loss: 0.5625 - acc: 0.7964\n",
      "Epoch 1/1\n",
      "7200/7200 [==============================] - 0s 61us/step - loss: 0.5615 - acc: 0.7956\n",
      "Epoch 1/1\n",
      "7200/7200 [==============================] - 0s 69us/step - loss: 0.5627 - acc: 0.7961\n",
      "Epoch 1/1\n",
      "7200/7200 [==============================] - 0s 66us/step - loss: 0.5720 - acc: 0.7917\n",
      "Epoch 1/1\n",
      "7200/7200 [==============================] - 1s 81us/step - loss: 0.5521 - acc: 0.7942\n",
      "Epoch 1/1\n",
      "7200/7200 [==============================] - 1s 74us/step - loss: 0.5612 - acc: 0.7953\n",
      "Epoch 1/1\n",
      "7200/7200 [==============================] - 1s 85us/step - loss: 0.5484 - acc: 0.7960\n",
      "Epoch 1/1\n",
      "7200/7200 [==============================] - 1s 88us/step - loss: 0.5528 - acc: 0.7957\n",
      "Epoch 1/1\n",
      "7200/7200 [==============================] - 1s 91us/step - loss: 0.5602 - acc: 0.7946\n",
      "Epoch 1/1\n",
      "7200/7200 [==============================] - 1s 94us/step - loss: 0.5646 - acc: 0.7961\n",
      "Epoch 1/1\n",
      "7200/7200 [==============================] - 1s 95us/step - loss: 0.5875 - acc: 0.7951\n",
      "Epoch 1/1\n",
      "7200/7200 [==============================] - 1s 96us/step - loss: 0.5643 - acc: 0.7956\n",
      "Epoch 1/1\n",
      "7200/7200 [==============================] - 1s 100us/step - loss: 0.5828 - acc: 0.7949\n",
      "Epoch 1/1\n",
      "7200/7200 [==============================] - 1s 100us/step - loss: 0.5776 - acc: 0.7922\n",
      "Epoch 1/1\n",
      "7200/7200 [==============================] - 1s 109us/step - loss: 0.5988 - acc: 0.7918\n",
      "Epoch 1/1\n",
      "7200/7200 [==============================] - 1s 111us/step - loss: 0.5784 - acc: 0.7947\n",
      "Epoch 1/1\n",
      "7200/7200 [==============================] - 1s 114us/step - loss: 0.5689 - acc: 0.7964\n",
      "Epoch 1/1\n",
      "7200/7200 [==============================] - 1s 120us/step - loss: 0.6032 - acc: 0.7937\n",
      "Epoch 1/1\n",
      "7200/7200 [==============================] - 1s 117us/step - loss: 0.5586 - acc: 0.7961\n",
      "Epoch 1/1\n",
      "7200/7200 [==============================] - 1s 131us/step - loss: 0.5663 - acc: 0.7954\n",
      "Epoch 1/1\n",
      "7200/7200 [==============================] - 1s 141us/step - loss: 0.5670 - acc: 0.7949\n",
      "Epoch 1/1\n",
      "7200/7200 [==============================] - 1s 137us/step - loss: 0.6047 - acc: 0.7940\n",
      "Epoch 1/1\n",
      "7200/7200 [==============================] - 1s 142us/step - loss: 0.5736 - acc: 0.7951\n",
      "Epoch 1/1\n",
      "7200/7200 [==============================] - 1s 150us/step - loss: 0.5461 - acc: 0.7933\n",
      "Epoch 1/1\n",
      "7200/7200 [==============================] - 1s 149us/step - loss: 0.5434 - acc: 0.7942\n",
      "Epoch 1/1\n",
      "7200/7200 [==============================] - 1s 155us/step - loss: 0.5452 - acc: 0.7967\n",
      "Epoch 1/1\n",
      "7200/7200 [==============================] - 1s 165us/step - loss: 0.5801 - acc: 0.7936\n",
      "Epoch 1/1\n",
      "7200/7200 [==============================] - 1s 162us/step - loss: 0.5620 - acc: 0.7951\n",
      "Epoch 1/1\n",
      "7200/7200 [==============================] - 1s 164us/step - loss: 0.5507 - acc: 0.7957\n",
      "Epoch 1/1\n",
      "7200/7200 [==============================] - 1s 181us/step - loss: 0.5752 - acc: 0.7969\n",
      "Epoch 1/1\n",
      "7200/7200 [==============================] - 1s 169us/step - loss: 0.5600 - acc: 0.7967\n",
      "Epoch 1/1\n",
      "7200/7200 [==============================] - 1s 169us/step - loss: 0.5816 - acc: 0.7944\n",
      "Epoch 1/1\n",
      "7200/7200 [==============================] - 1s 177us/step - loss: 0.6231 - acc: 0.7954\n",
      "Epoch 1/1\n",
      "7200/7200 [==============================] - 1s 174us/step - loss: 0.5636 - acc: 0.7933\n",
      "Epoch 1/1\n",
      "7200/7200 [==============================] - 1s 177us/step - loss: 0.6316 - acc: 0.7924\n",
      "Epoch 1/1\n",
      "7200/7200 [==============================] - 1s 178us/step - loss: 0.5791 - acc: 0.7962\n",
      "Epoch 1/1\n",
      "7200/7200 [==============================] - 1s 182us/step - loss: 0.5719 - acc: 0.7957\n",
      "Epoch 1/1\n",
      "7200/7200 [==============================] - 1s 190us/step - loss: 0.5724 - acc: 0.7953\n",
      "Epoch 1/1\n",
      "7200/7200 [==============================] - 1s 190us/step - loss: 0.5810 - acc: 0.7933\n",
      "Epoch 1/1\n",
      "7200/7200 [==============================] - 1s 192us/step - loss: 0.5805 - acc: 0.7962\n",
      "Epoch 1/1\n",
      "7200/7200 [==============================] - 1s 200us/step - loss: 0.6631 - acc: 0.7964\n",
      "Epoch 1/1\n",
      "7200/7200 [==============================] - 2s 210us/step - loss: 0.5811 - acc: 0.7944\n",
      "Epoch 1/1\n",
      "7200/7200 [==============================] - 2s 211us/step - loss: 0.5933 - acc: 0.7965\n",
      "Epoch 1/1\n",
      "7200/7200 [==============================] - 2s 210us/step - loss: 0.5821 - acc: 0.7921\n",
      "Epoch 1/1\n",
      "7200/7200 [==============================] - 2s 214us/step - loss: 0.5889 - acc: 0.7940\n",
      "Epoch 1/1\n",
      "7200/7200 [==============================] - 2s 215us/step - loss: 0.5806 - acc: 0.7968\n",
      "Epoch 1/1\n",
      "7200/7200 [==============================] - 2s 220us/step - loss: 0.5829 - acc: 0.7962\n",
      "Epoch 1/1\n",
      "7200/7200 [==============================] - 2s 229us/step - loss: 0.5841 - acc: 0.7939\n",
      "Epoch 1/1\n",
      "7200/7200 [==============================] - 2s 235us/step - loss: 0.5914 - acc: 0.7947\n",
      "Epoch 1/1\n",
      "7200/7200 [==============================] - 2s 231us/step - loss: 0.6399 - acc: 0.7947\n",
      "Epoch 1/1\n",
      "7200/7200 [==============================] - 2s 235us/step - loss: 0.5966 - acc: 0.7953\n",
      "Epoch 1/1\n",
      "7200/7200 [==============================] - 2s 237us/step - loss: 0.5781 - acc: 0.7951\n",
      "Epoch 1/1\n",
      "7200/7200 [==============================] - 2s 240us/step - loss: 0.6599 - acc: 0.7954\n",
      "Epoch 1/1\n",
      "7200/7200 [==============================] - 2s 243us/step - loss: 0.5933 - acc: 0.7932\n",
      "Epoch 1/1\n",
      "7200/7200 [==============================] - 2s 249us/step - loss: 0.6235 - acc: 0.7926\n",
      "Epoch 1/1\n",
      "7200/7200 [==============================] - 2s 256us/step - loss: 0.6057 - acc: 0.7951\n",
      "Epoch 1/1\n",
      "7200/7200 [==============================] - 2s 250us/step - loss: 0.6090 - acc: 0.7962\n",
      "Epoch 1/1\n",
      "7200/7200 [==============================] - 2s 252us/step - loss: 0.6292 - acc: 0.7936\n",
      "Epoch 1/1\n",
      "7200/7200 [==============================] - 2s 259us/step - loss: 0.6089 - acc: 0.7958\n",
      "Epoch 1/1\n",
      "7200/7200 [==============================] - 2s 269us/step - loss: 0.5987 - acc: 0.7944\n",
      "Epoch 1/1\n",
      "7200/7200 [==============================] - 2s 272us/step - loss: 0.5911 - acc: 0.7951\n",
      "Epoch 1/1\n",
      "7200/7200 [==============================] - 2s 273us/step - loss: 0.6213 - acc: 0.7933\n",
      "Epoch 1/1\n",
      "7200/7200 [==============================] - 2s 287us/step - loss: 0.6091 - acc: 0.7950\n",
      "Epoch 1/1\n",
      "7200/7200 [==============================] - 2s 290us/step - loss: 0.5798 - acc: 0.7926\n",
      "Epoch 1/1\n",
      "7200/7200 [==============================] - 2s 289us/step - loss: 0.5933 - acc: 0.7932\n",
      "Epoch 1/1\n",
      "7200/7200 [==============================] - 2s 304us/step - loss: 0.5812 - acc: 0.7967\n",
      "Epoch 1/1\n",
      "7200/7200 [==============================] - 2s 302us/step - loss: 0.6016 - acc: 0.7940\n",
      "Epoch 1/1\n",
      "7200/7200 [==============================] - 2s 306us/step - loss: 0.5853 - acc: 0.7954\n",
      "Epoch 1/1\n",
      "7200/7200 [==============================] - 2s 308us/step - loss: 0.5979 - acc: 0.7937\n",
      "Epoch 1/1\n",
      "7200/7200 [==============================] - 2s 322us/step - loss: 0.6045 - acc: 0.7951\n",
      "Epoch 1/1\n",
      "7200/7200 [==============================] - 2s 311us/step - loss: 0.6612 - acc: 0.7943\n",
      "Epoch 1/1\n",
      "7200/7200 [==============================] - 2s 300us/step - loss: 0.6098 - acc: 0.7940\n",
      "Epoch 1/1\n",
      "7200/7200 [==============================] - 2s 318us/step - loss: 0.5976 - acc: 0.7976\n",
      "Epoch 1/1\n",
      "7200/7200 [==============================] - 2s 308us/step - loss: 0.5886 - acc: 0.7931\n",
      "Epoch 1/1\n",
      "7200/7200 [==============================] - 2s 302us/step - loss: 0.6026 - acc: 0.7925\n",
      "Epoch 1/1\n",
      "7200/7200 [==============================] - 2s 321us/step - loss: 0.6104 - acc: 0.7951\n",
      "Epoch 1/1\n",
      "7200/7200 [==============================] - 2s 322us/step - loss: 0.5846 - acc: 0.7960\n",
      "Epoch 1/1\n",
      "7200/7200 [==============================] - 2s 316us/step - loss: 0.6457 - acc: 0.7943\n",
      "Epoch 1/1\n",
      "7200/7200 [==============================] - 2s 316us/step - loss: 0.6133 - acc: 0.7946\n",
      "Epoch 1/1\n",
      "8000/8000 [==============================] - 3s 329us/step - loss: 0.5559 - acc: 0.7955\n"
     ]
    }
   ],
   "source": [
    "#Improving the ANN\n",
    "from keras.wrappers.scikit_learn import  KerasClassifier\n",
    "from sklearn.model_selection import GridSearchCV\n",
    "\n",
    "def build_classifier(optimizer):\n",
    "    classifier = Sequential()\n",
    "    classifier.add(Dense(6, kernel_initializer = 'uniform', activation = 'relu', input_dim = 12))\n",
    "    #Adding the second hidden layer\n",
    "    classifier.add(Dense(6, kernel_initializer = 'uniform', activation = 'relu'))\n",
    "    classifier.add(Dense(1, kernel_initializer='uniform', activation = 'sigmoid'))\n",
    "    classifier.compile(optimizer = optimizer, loss = 'binary_crossentropy', metrics = ['accuracy'])\n",
    "    \n",
    "    return classifier\n",
    "\n",
    "classifier = KerasClassifier(build_fn = build_classifier)\n",
    "parameters = {'batch_size': [25, 32],\n",
    "             'nb_epoch': [100, 500], \n",
    "             'optimizer': ['adam', 'rmsprop']}\n",
    "\n",
    "grid_search = GridSearchCV(estimator = classifier, \n",
    "                          param_grid = parameters,\n",
    "                          scoring = 'accuracy',\n",
    "                          cv = 10)\n",
    "\n",
    "grid_search = grid_search.fit(X_train, y_train)\n",
    "best_parameters = grid_search.best_params_\n",
    "best_accuracy = grid_search.best_score_"
   ]
  },
  {
   "cell_type": "code",
   "execution_count": 93,
   "metadata": {},
   "outputs": [
    {
     "data": {
      "text/plain": [
       "{'batch_size': 25, 'nb_epoch': 100, 'optimizer': 'adam'}"
      ]
     },
     "execution_count": 93,
     "metadata": {},
     "output_type": "execute_result"
    }
   ],
   "source": [
    "best_parameters"
   ]
  },
  {
   "cell_type": "code",
   "execution_count": null,
   "metadata": {},
   "outputs": [],
   "source": []
  }
 ],
 "metadata": {
  "kernelspec": {
   "display_name": "Python 3",
   "language": "python",
   "name": "python3"
  },
  "language_info": {
   "codemirror_mode": {
    "name": "ipython",
    "version": 3
   },
   "file_extension": ".py",
   "mimetype": "text/x-python",
   "name": "python",
   "nbconvert_exporter": "python",
   "pygments_lexer": "ipython3",
   "version": "3.5.2"
  }
 },
 "nbformat": 4,
 "nbformat_minor": 2
}
